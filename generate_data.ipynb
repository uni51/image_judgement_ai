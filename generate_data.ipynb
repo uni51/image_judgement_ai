{
 "cells": [
  {
   "cell_type": "code",
   "execution_count": 11,
   "metadata": {},
   "outputs": [],
   "source": [
    "from PIL import Image\n",
    "import os, glob\n",
    "import numpy as np\n",
    "# from sklearn import cross_validation\n",
    "from sklearn import model_selection\n",
    "\n",
    "classes = [\"monkey\",\"boar\",\"crow\"]\n",
    "num_classes = len(classes)\n",
    "image_size = 50\n",
    "\n",
    "# 画像の読み込み\n",
    "X = []\n",
    "Y = []\n",
    "for index, classlabel in enumerate(classes):\n",
    "    photos_dir = \"./\" + classlabel\n",
    "    files = glob.glob(photos_dir + \"/*.jpg\")\n",
    "    for i, file in enumerate(files):\n",
    "        if i >= 150: break\n",
    "        image = Image.open(file)\n",
    "        image = image.convert(\"RGB\")\n",
    "        image = image.resize((image_size, image_size))\n",
    "        data = np.asarray(image)\n",
    "        X.append(data)\n",
    "        Y.append(index)\n",
    "\n",
    "X = np.array(X)\n",
    "Y = np.array(Y)\n",
    "\n",
    "X_train, X_test, y_train, y_test = model_selection.train_test_split(X, Y)\n",
    "xy = (X_train, X_test, y_train, y_test)\n",
    "np.save(\"./animal.npy\", xy)\n"
   ]
  },
  {
   "cell_type": "code",
   "execution_count": 12,
   "metadata": {},
   "outputs": [
    {
     "data": {
      "text/plain": [
       "273"
      ]
     },
     "execution_count": 12,
     "metadata": {},
     "output_type": "execute_result"
    }
   ],
   "source": [
    "len(X_train)"
   ]
  },
  {
   "cell_type": "code",
   "execution_count": 13,
   "metadata": {},
   "outputs": [
    {
     "data": {
      "text/plain": [
       "92"
      ]
     },
     "execution_count": 13,
     "metadata": {},
     "output_type": "execute_result"
    }
   ],
   "source": [
    "len(X_test)"
   ]
  },
  {
   "cell_type": "code",
   "execution_count": 14,
   "metadata": {},
   "outputs": [
    {
     "data": {
      "text/plain": [
       "273"
      ]
     },
     "execution_count": 14,
     "metadata": {},
     "output_type": "execute_result"
    }
   ],
   "source": [
    "len(y_train)"
   ]
  },
  {
   "cell_type": "code",
   "execution_count": 15,
   "metadata": {},
   "outputs": [
    {
     "data": {
      "text/plain": [
       "92"
      ]
     },
     "execution_count": 15,
     "metadata": {},
     "output_type": "execute_result"
    }
   ],
   "source": [
    "len(y_test)"
   ]
  },
  {
   "cell_type": "code",
   "execution_count": 17,
   "metadata": {},
   "outputs": [
    {
     "data": {
      "text/plain": [
       "array([[[102, 184,  74],\n",
       "        [112, 173,  78],\n",
       "        [117, 194,  92],\n",
       "        ...,\n",
       "        [149, 203, 115],\n",
       "        [146, 213, 116],\n",
       "        [132, 203,  99]],\n",
       "\n",
       "       [[122, 189,  84],\n",
       "        [134, 203, 112],\n",
       "        [ 96, 180,  66],\n",
       "        ...,\n",
       "        [141, 207, 101],\n",
       "        [146, 219, 102],\n",
       "        [135, 207,  99]],\n",
       "\n",
       "       [[143, 208, 116],\n",
       "        [140, 198,  86],\n",
       "        [119,  98,  41],\n",
       "        ...,\n",
       "        [153, 220, 127],\n",
       "        [111, 183,  71],\n",
       "        [131, 204,  99]],\n",
       "\n",
       "       ...,\n",
       "\n",
       "       [[128, 191, 100],\n",
       "        [125, 185,  99],\n",
       "        [183, 211, 152],\n",
       "        ...,\n",
       "        [123, 182,  88],\n",
       "        [111, 193,  91],\n",
       "        [133, 203, 104]],\n",
       "\n",
       "       [[118, 180,  94],\n",
       "        [113, 168,  87],\n",
       "        [143, 195,  97],\n",
       "        ...,\n",
       "        [109, 173,  86],\n",
       "        [109, 183,  84],\n",
       "        [132, 200, 101]],\n",
       "\n",
       "       [[108, 170,  85],\n",
       "        [115, 173,  89],\n",
       "        [109, 180,  78],\n",
       "        ...,\n",
       "        [115, 197,  95],\n",
       "        [121, 193,  91],\n",
       "        [134, 201,  96]]], dtype=uint8)"
      ]
     },
     "execution_count": 17,
     "metadata": {},
     "output_type": "execute_result"
    }
   ],
   "source": [
    "X_train[100]"
   ]
  },
  {
   "cell_type": "code",
   "execution_count": null,
   "metadata": {},
   "outputs": [],
   "source": []
  }
 ],
 "metadata": {
  "kernelspec": {
   "display_name": "Python 3",
   "language": "python",
   "name": "python3"
  },
  "language_info": {
   "codemirror_mode": {
    "name": "ipython",
    "version": 3
   },
   "file_extension": ".py",
   "mimetype": "text/x-python",
   "name": "python",
   "nbconvert_exporter": "python",
   "pygments_lexer": "ipython3",
   "version": "3.6.8"
  }
 },
 "nbformat": 4,
 "nbformat_minor": 2
}
